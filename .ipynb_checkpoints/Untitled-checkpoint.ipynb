{
 "cells": [
  {
   "cell_type": "code",
   "execution_count": 16,
   "id": "682b954e",
   "metadata": {},
   "outputs": [
    {
     "ename": "FileExistsError",
     "evalue": "[WinError 183] Cannot create a file when that file already exists: 'D:\\\\IPTIL\\\\IoTAC\\\\Vulnerability_Prediction\\\\Crawler\\\\repo\\\\vm4sec_dataset\\\\Vasi_Gnwsis1\\\\apache#zookeeper_815c8f2_par1_zookeeper-server_src_main_java_org_apache_zookeeper_server_quorum_AuthFastLeaderElection.java' -> 'D:\\\\IPTIL\\\\IoTAC\\\\Vulnerability_Prediction\\\\Crawler\\\\repo\\\\vm4sec_dataset\\\\Vasi_Gnwsis1\\\\AuthFastLeaderElection.javaVuln'",
     "output_type": "error",
     "traceback": [
      "\u001b[1;31m---------------------------------------------------------------------------\u001b[0m",
      "\u001b[1;31mFileExistsError\u001b[0m                           Traceback (most recent call last)",
      "\u001b[1;32m~\\AppData\\Local\\Temp\\ipykernel_20140\\2792413157.py\u001b[0m in \u001b[0;36m<module>\u001b[1;34m\u001b[0m\n\u001b[0;32m     12\u001b[0m \u001b[1;33m\u001b[0m\u001b[0m\n\u001b[0;32m     13\u001b[0m             \u001b[1;31m# Renaming the file\u001b[0m\u001b[1;33m\u001b[0m\u001b[1;33m\u001b[0m\u001b[1;33m\u001b[0m\u001b[0m\n\u001b[1;32m---> 14\u001b[1;33m             \u001b[0mos\u001b[0m\u001b[1;33m.\u001b[0m\u001b[0mrename\u001b[0m\u001b[1;33m(\u001b[0m\u001b[0mf\u001b[0m\u001b[1;33m,\u001b[0m \u001b[1;34m'D:\\\\IPTIL\\\\IoTAC\\\\Vulnerability_Prediction\\\\Crawler\\\\repo\\\\vm4sec_dataset\\\\Vasi_Gnwsis1\\\\'\u001b[0m\u001b[1;33m+\u001b[0m\u001b[0msplitted\u001b[0m\u001b[1;33m[\u001b[0m\u001b[1;33m-\u001b[0m\u001b[1;36m1\u001b[0m\u001b[1;33m]\u001b[0m\u001b[1;33m+\u001b[0m\u001b[1;34m'Vuln'\u001b[0m\u001b[1;33m)\u001b[0m\u001b[1;33m\u001b[0m\u001b[1;33m\u001b[0m\u001b[0m\n\u001b[0m",
      "\u001b[1;31mFileExistsError\u001b[0m: [WinError 183] Cannot create a file when that file already exists: 'D:\\\\IPTIL\\\\IoTAC\\\\Vulnerability_Prediction\\\\Crawler\\\\repo\\\\vm4sec_dataset\\\\Vasi_Gnwsis1\\\\apache#zookeeper_815c8f2_par1_zookeeper-server_src_main_java_org_apache_zookeeper_server_quorum_AuthFastLeaderElection.java' -> 'D:\\\\IPTIL\\\\IoTAC\\\\Vulnerability_Prediction\\\\Crawler\\\\repo\\\\vm4sec_dataset\\\\Vasi_Gnwsis1\\\\AuthFastLeaderElection.javaVuln'"
     ]
    }
   ],
   "source": [
    "import os\n",
    "\n",
    "directory = os.getcwd()\n",
    "\n",
    "for filename in os.listdir(directory):\n",
    "    f = os.path.join(directory, filename)\n",
    "    # checking if it is a file\n",
    "    if os.path.isfile(f):\n",
    "        if '#' in f:\n",
    "            splitted = f.split('_')\n",
    "            #print(f)\n",
    "            \n",
    "            if \n",
    "            # Renaming the file\n",
    "            os.rename(f, 'D:\\\\IPTIL\\\\IoTAC\\\\Vulnerability_Prediction\\\\Crawler\\\\repo\\\\vm4sec_dataset\\\\Vasi_Gnwsis1\\\\Vuln'+splitted[-1])"
   ]
  }
 ],
 "metadata": {
  "kernelspec": {
   "display_name": "Python 3 (ipykernel)",
   "language": "python",
   "name": "python3"
  },
  "language_info": {
   "codemirror_mode": {
    "name": "ipython",
    "version": 3
   },
   "file_extension": ".py",
   "mimetype": "text/x-python",
   "name": "python",
   "nbconvert_exporter": "python",
   "pygments_lexer": "ipython3",
   "version": "3.7.13"
  }
 },
 "nbformat": 4,
 "nbformat_minor": 5
}
