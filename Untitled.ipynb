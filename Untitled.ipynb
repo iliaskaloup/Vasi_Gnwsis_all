{
 "cells": [
  {
   "cell_type": "code",
   "execution_count": 20,
   "id": "44599514",
   "metadata": {},
   "outputs": [],
   "source": [
    "import os\n",
    "\n",
    "directory = os.getcwd()\n",
    "\n",
    "for filename in os.listdir(directory):\n",
    "    f = os.path.join(directory, filename)\n",
    "    # checking if it is a file\n",
    "    if os.path.isfile(f):\n",
    "        if '#' in f:\n",
    "            splitted = f.split('_')\n",
    "            #print(f)\n",
    "            new = 'D:\\\\IPTIL\\\\IoTAC\\\\Vulnerability_Prediction\\\\Crawler\\\\repo\\\\vm4sec_dataset\\\\Vasi_Gnwsis1\\\\Vuln'+splitted[-1]\n",
    "            \n",
    "            if not (os.path.exists(new)):\n",
    "                # Renaming the file\n",
    "                os.rename(f, new)"
   ]
  }
 ],
 "metadata": {
  "kernelspec": {
   "display_name": "Python 3 (ipykernel)",
   "language": "python",
   "name": "python3"
  },
  "language_info": {
   "codemirror_mode": {
    "name": "ipython",
    "version": 3
   },
   "file_extension": ".py",
   "mimetype": "text/x-python",
   "name": "python",
   "nbconvert_exporter": "python",
   "pygments_lexer": "ipython3",
   "version": "3.7.13"
  }
 },
 "nbformat": 4,
 "nbformat_minor": 5
}
